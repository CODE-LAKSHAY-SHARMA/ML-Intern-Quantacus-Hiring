{
  "nbformat": 4,
  "nbformat_minor": 0,
  "metadata": {
    "colab": {
      "provenance": []
    },
    "kernelspec": {
      "name": "python3",
      "display_name": "Python 3"
    },
    "language_info": {
      "name": "python"
    }
  },
  "cells": [
    {
      "cell_type": "markdown",
      "source": [
        "**1. Initial Analysis of Campaign Performance**"
      ],
      "metadata": {
        "id": "-3i_UNVjIwlX"
      }
    },
    {
      "cell_type": "code",
      "execution_count": 1,
      "metadata": {
        "colab": {
          "base_uri": "https://localhost:8080/"
        },
        "id": "_5XsYY-SID02",
        "outputId": "bb67552b-4d50-4a05-8333-a483be9c3413"
      },
      "outputs": [
        {
          "output_type": "stream",
          "name": "stdout",
          "text": [
            "Email Open Rate: 10.35%\n",
            "Email Click Rate: 2.12%\n",
            "Click-to-Open Rate: 20.48%\n"
          ]
        }
      ],
      "source": [
        "import pandas as pd\n",
        "import matplotlib.pyplot as plt\n",
        "import seaborn as sns\n",
        "from sklearn.model_selection import train_test_split\n",
        "from sklearn.ensemble import RandomForestClassifier\n",
        "from sklearn.metrics import classification_report, accuracy_score\n",
        "from sklearn.model_selection import cross_val_score\n",
        "\n",
        "# Load the data\n",
        "email_table = pd.read_csv('email_table.csv')\n",
        "email_opened = pd.read_csv('email_opened_table.csv')\n",
        "link_clicked = pd.read_csv('link_clicked_table.csv')\n",
        "\n",
        "# Calculate metrics\n",
        "total_emails = len(email_table)\n",
        "opened_emails = len(email_opened)\n",
        "clicked_emails = len(link_clicked)\n",
        "\n",
        "open_rate = (opened_emails / total_emails) * 100\n",
        "click_rate = (clicked_emails / total_emails) * 100\n",
        "click_to_open_rate = (clicked_emails / opened_emails) * 100\n",
        "\n",
        "print(f\"Email Open Rate: {open_rate:.2f}%\")\n",
        "print(f\"Email Click Rate: {click_rate:.2f}%\")\n",
        "print(f\"Click-to-Open Rate: {click_to_open_rate:.2f}%\")"
      ]
    },
    {
      "cell_type": "markdown",
      "source": [
        "## 2. Data Preparation for Machine Learning"
      ],
      "metadata": {
        "id": "Ecjkzy3EIuAF"
      }
    },
    {
      "cell_type": "code",
      "source": [
        "import numpy as np\n",
        "# Merge all data to create a complete dataset\n",
        "email_table['opened'] = email_table['email_id'].isin(email_opened['email_id']).astype(int)\n",
        "email_table['clicked'] = email_table['email_id'].isin(link_clicked['email_id']).astype(int)\n",
        "\n",
        "# Feature engineering\n",
        "df = email_table.copy()\n",
        "\n",
        "# Convert categorical variables\n",
        "df = pd.get_dummies(df, columns=['email_text', 'email_version', 'user_country', 'weekday'])\n",
        "\n",
        "# Extract hour features\n",
        "df['hour_sin'] = np.sin(2 * np.pi * df['hour']/24)\n",
        "df['hour_cos'] = np.cos(2 * np.pi * df['hour']/24)\n",
        "\n",
        "# Drop unnecessary columns\n",
        "df = df.drop(['email_id', 'hour'], axis=1)\n",
        "\n",
        "# Split data into features and target\n",
        "X = df.drop(['opened', 'clicked'], axis=1)\n",
        "y = df['clicked']  # We'll focus on predicting clicks directly"
      ],
      "metadata": {
        "id": "M5G6JRVtIEmC"
      },
      "execution_count": 3,
      "outputs": []
    },
    {
      "cell_type": "markdown",
      "source": [
        "3. Building the Optimization Model\n",
        "I recommend using a Random Forest classifier because:\n",
        "\n",
        "It handles both numerical and categorical features well\n",
        "\n",
        "It can capture non-linear relationships\n",
        "\n",
        "It provides feature importance which helps with interpretation\n",
        "\n",
        "It's robust to overfitting"
      ],
      "metadata": {
        "id": "fxKtSSfXJESs"
      }
    },
    {
      "cell_type": "code",
      "source": [
        "# Split data into train and test sets\n",
        "X_train, X_test, y_train, y_test = train_test_split(X, y, test_size=0.2, random_state=42)\n",
        "\n",
        "# Initialize and train the model\n",
        "rf = RandomForestClassifier(n_estimators=100, random_state=42, class_weight='balanced')\n",
        "rf.fit(X_train, y_train)\n",
        "\n",
        "# Evaluate the model\n",
        "y_pred = rf.predict(X_test)\n",
        "print(classification_report(y_test, y_pred))\n",
        "print(f\"Accuracy: {accuracy_score(y_test, y_pred):.2f}\")\n",
        "\n",
        "# Cross-validation\n",
        "cv_scores = cross_val_score(rf, X, y, cv=5, scoring='accuracy')\n",
        "print(f\"Cross-validated Accuracy: {np.mean(cv_scores):.2f} (+/- {np.std(cv_scores):.2f})\")"
      ],
      "metadata": {
        "colab": {
          "base_uri": "https://localhost:8080/"
        },
        "id": "BDypc0miIEkG",
        "outputId": "3b3e8378-654d-49cc-851f-dbf00c0d76f4"
      },
      "execution_count": 4,
      "outputs": [
        {
          "output_type": "stream",
          "name": "stdout",
          "text": [
            "              precision    recall  f1-score   support\n",
            "\n",
            "           0       0.98      0.91      0.94     19547\n",
            "           1       0.03      0.13      0.05       453\n",
            "\n",
            "    accuracy                           0.89     20000\n",
            "   macro avg       0.51      0.52      0.50     20000\n",
            "weighted avg       0.96      0.89      0.92     20000\n",
            "\n",
            "Accuracy: 0.89\n",
            "Cross-validated Accuracy: 0.89 (+/- 0.00)\n"
          ]
        }
      ]
    },
    {
      "cell_type": "markdown",
      "source": [
        "##4. Model Improvement and Expected CTR Increase\n",
        "To estimate how much the model would improve click-through rate:"
      ],
      "metadata": {
        "id": "c9wh-cvkJeLF"
      }
    },
    {
      "cell_type": "code",
      "source": [
        "# Get predicted probabilities\n",
        "y_proba = rf.predict_proba(X_test)[:, 1]\n",
        "\n",
        "# Create a dataframe with actual and predicted values\n",
        "results = pd.DataFrame({'actual': y_test, 'predicted_proba': y_proba})\n",
        "\n",
        "# Sort by predicted probability\n",
        "results = results.sort_values('predicted_proba', ascending=False)\n",
        "\n",
        "# Calculate what CTR would be if we only sent to top X% most likely to click\n",
        "total_users = len(results)\n",
        "click_counts = results['actual'].cumsum()\n",
        "user_counts = np.arange(1, total_users+1)\n",
        "ctr_rates = click_counts / user_counts\n",
        "\n",
        "# Plot the potential improvement\n",
        "plt.figure(figsize=(10,6))\n",
        "plt.plot(user_counts/total_users, ctr_rates)\n",
        "plt.xlabel('Proportion of users targeted')\n",
        "plt.ylabel('Click-through rate')\n",
        "plt.title('Potential CTR Improvement by Selective Targeting')\n",
        "plt.axhline(y=click_rate/100, color='r', linestyle='--', label='Original CTR')\n",
        "plt.legend()\n",
        "plt.show()\n",
        "\n",
        "# Calculate potential improvement\n",
        "improvement = (ctr_rates[user_counts == int(0.5*total_users)][0] - (click_rate/100)) / (click_rate/100)\n",
        "print(f\"Potential CTR improvement by targeting top 50%: {improvement*100:.1f}%\")"
      ],
      "metadata": {
        "colab": {
          "base_uri": "https://localhost:8080/",
          "height": 1000
        },
        "id": "FgB0yDyxIEhu",
        "outputId": "7dab0676-fdb5-4422-b647-5943b5dd42b8"
      },
      "execution_count": 5,
      "outputs": [
        {
          "output_type": "display_data",
          "data": {
            "text/plain": [
              "<Figure size 1000x600 with 1 Axes>"
            ],
            "image/png": "[encoded data removed]"
          },
          "metadata": {}
        },
        {
          "output_type": "error",
          "ename": "KeyError",
          "evalue": "0",
          "traceback": [
            "\u001b[0;31m---------------------------------------------------------------------------\u001b[0m",
            "\u001b[0;31mKeyError\u001b[0m                                  Traceback (most recent call last)",
            "\u001b[0;32m/usr/local/lib/python3.11/dist-packages/pandas/core/indexes/base.py\u001b[0m in \u001b[0;36mget_loc\u001b[0;34m(self, key)\u001b[0m\n\u001b[1;32m   3804\u001b[0m         \u001b[0;32mtry\u001b[0m\u001b[0;34m:\u001b[0m\u001b[0;34m\u001b[0m\u001b[0;34m\u001b[0m\u001b[0m\n\u001b[0;32m-> 3805\u001b[0;31m             \u001b[0;32mreturn\u001b[0m \u001b[0mself\u001b[0m\u001b[0;34m.\u001b[0m\u001b[0m_engine\u001b[0m\u001b[0;34m.\u001b[0m\u001b[0mget_loc\u001b[0m\u001b[0;34m(\u001b[0m\u001b[0mcasted_key\u001b[0m\u001b[0;34m)\u001b[0m\u001b[0;34m\u001b[0m\u001b[0;34m\u001b[0m\u001b[0m\n\u001b[0m\u001b[1;32m   3806\u001b[0m         \u001b[0;32mexcept\u001b[0m \u001b[0mKeyError\u001b[0m \u001b[0;32mas\u001b[0m \u001b[0merr\u001b[0m\u001b[0;34m:\u001b[0m\u001b[0;34m\u001b[0m\u001b[0;34m\u001b[0m\u001b[0m\n",
            "\u001b[0;32mindex.pyx\u001b[0m in \u001b[0;36mpandas._libs.index.IndexEngine.get_loc\u001b[0;34m()\u001b[0m\n",
            "\u001b[0;32mindex.pyx\u001b[0m in \u001b[0;36mpandas._libs.index.IndexEngine.get_loc\u001b[0;34m()\u001b[0m\n",
            "\u001b[0;32mpandas/_libs/hashtable_class_helper.pxi\u001b[0m in \u001b[0;36mpandas._libs.hashtable.Int64HashTable.get_item\u001b[0;34m()\u001b[0m\n",
            "\u001b[0;32mpandas/_libs/hashtable_class_helper.pxi\u001b[0m in \u001b[0;36mpandas._libs.hashtable.Int64HashTable.get_item\u001b[0;34m()\u001b[0m\n",
            "\u001b[0;31mKeyError\u001b[0m: 0",
            "\nThe above exception was the direct cause of the following exception:\n",
            "\u001b[0;31mKeyError\u001b[0m                                  Traceback (most recent call last)",
            "\u001b[0;32m<ipython-input-5-e6d030fe87ce>\u001b[0m in \u001b[0;36m<cell line: 0>\u001b[0;34m()\u001b[0m\n\u001b[1;32m     25\u001b[0m \u001b[0;34m\u001b[0m\u001b[0m\n\u001b[1;32m     26\u001b[0m \u001b[0;31m# Calculate potential improvement\u001b[0m\u001b[0;34m\u001b[0m\u001b[0;34m\u001b[0m\u001b[0m\n\u001b[0;32m---> 27\u001b[0;31m \u001b[0mimprovement\u001b[0m \u001b[0;34m=\u001b[0m \u001b[0;34m(\u001b[0m\u001b[0mctr_rates\u001b[0m\u001b[0;34m[\u001b[0m\u001b[0muser_counts\u001b[0m \u001b[0;34m==\u001b[0m \u001b[0mint\u001b[0m\u001b[0;34m(\u001b[0m\u001b[0;36m0.5\u001b[0m\u001b[0;34m*\u001b[0m\u001b[0mtotal_users\u001b[0m\u001b[0;34m)\u001b[0m\u001b[0;34m]\u001b[0m\u001b[0;34m[\u001b[0m\u001b[0;36m0\u001b[0m\u001b[0;34m]\u001b[0m \u001b[0;34m-\u001b[0m \u001b[0;34m(\u001b[0m\u001b[0mclick_rate\u001b[0m\u001b[0;34m/\u001b[0m\u001b[0;36m100\u001b[0m\u001b[0;34m)\u001b[0m\u001b[0;34m)\u001b[0m \u001b[0;34m/\u001b[0m \u001b[0;34m(\u001b[0m\u001b[0mclick_rate\u001b[0m\u001b[0;34m/\u001b[0m\u001b[0;36m100\u001b[0m\u001b[0;34m)\u001b[0m\u001b[0;34m\u001b[0m\u001b[0;34m\u001b[0m\u001b[0m\n\u001b[0m\u001b[1;32m     28\u001b[0m \u001b[0mprint\u001b[0m\u001b[0;34m(\u001b[0m\u001b[0;34mf\"Potential CTR improvement by targeting top 50%: {improvement*100:.1f}%\"\u001b[0m\u001b[0;34m)\u001b[0m\u001b[0;34m\u001b[0m\u001b[0;34m\u001b[0m\u001b[0m\n",
            "\u001b[0;32m/usr/local/lib/python3.11/dist-packages/pandas/core/series.py\u001b[0m in \u001b[0;36m__getitem__\u001b[0;34m(self, key)\u001b[0m\n\u001b[1;32m   1119\u001b[0m \u001b[0;34m\u001b[0m\u001b[0m\n\u001b[1;32m   1120\u001b[0m         \u001b[0;32melif\u001b[0m \u001b[0mkey_is_scalar\u001b[0m\u001b[0;34m:\u001b[0m\u001b[0;34m\u001b[0m\u001b[0;34m\u001b[0m\u001b[0m\n\u001b[0;32m-> 1121\u001b[0;31m             \u001b[0;32mreturn\u001b[0m \u001b[0mself\u001b[0m\u001b[0;34m.\u001b[0m\u001b[0m_get_value\u001b[0m\u001b[0;34m(\u001b[0m\u001b[0mkey\u001b[0m\u001b[0;34m)\u001b[0m\u001b[0;34m\u001b[0m\u001b[0;34m\u001b[0m\u001b[0m\n\u001b[0m\u001b[1;32m   1122\u001b[0m \u001b[0;34m\u001b[0m\u001b[0m\n\u001b[1;32m   1123\u001b[0m         \u001b[0;31m# Convert generator to list before going through hashable part\u001b[0m\u001b[0;34m\u001b[0m\u001b[0;34m\u001b[0m\u001b[0m\n",
            "\u001b[0;32m/usr/local/lib/python3.11/dist-packages/pandas/core/series.py\u001b[0m in \u001b[0;36m_get_value\u001b[0;34m(self, label, takeable)\u001b[0m\n\u001b[1;32m   1235\u001b[0m \u001b[0;34m\u001b[0m\u001b[0m\n\u001b[1;32m   1236\u001b[0m         \u001b[0;31m# Similar to Index.get_value, but we do not fall back to positional\u001b[0m\u001b[0;34m\u001b[0m\u001b[0;34m\u001b[0m\u001b[0m\n\u001b[0;32m-> 1237\u001b[0;31m         \u001b[0mloc\u001b[0m \u001b[0;34m=\u001b[0m \u001b[0mself\u001b[0m\u001b[0;34m.\u001b[0m\u001b[0mindex\u001b[0m\u001b[0;34m.\u001b[0m\u001b[0mget_loc\u001b[0m\u001b[0;34m(\u001b[0m\u001b[0mlabel\u001b[0m\u001b[0;34m)\u001b[0m\u001b[0;34m\u001b[0m\u001b[0;34m\u001b[0m\u001b[0m\n\u001b[0m\u001b[1;32m   1238\u001b[0m \u001b[0;34m\u001b[0m\u001b[0m\n\u001b[1;32m   1239\u001b[0m         \u001b[0;32mif\u001b[0m \u001b[0mis_integer\u001b[0m\u001b[0;34m(\u001b[0m\u001b[0mloc\u001b[0m\u001b[0;34m)\u001b[0m\u001b[0;34m:\u001b[0m\u001b[0;34m\u001b[0m\u001b[0;34m\u001b[0m\u001b[0m\n",
            "\u001b[0;32m/usr/local/lib/python3.11/dist-packages/pandas/core/indexes/base.py\u001b[0m in \u001b[0;36mget_loc\u001b[0;34m(self, key)\u001b[0m\n\u001b[1;32m   3810\u001b[0m             ):\n\u001b[1;32m   3811\u001b[0m                 \u001b[0;32mraise\u001b[0m \u001b[0mInvalidIndexError\u001b[0m\u001b[0;34m(\u001b[0m\u001b[0mkey\u001b[0m\u001b[0;34m)\u001b[0m\u001b[0;34m\u001b[0m\u001b[0;34m\u001b[0m\u001b[0m\n\u001b[0;32m-> 3812\u001b[0;31m             \u001b[0;32mraise\u001b[0m \u001b[0mKeyError\u001b[0m\u001b[0;34m(\u001b[0m\u001b[0mkey\u001b[0m\u001b[0;34m)\u001b[0m \u001b[0;32mfrom\u001b[0m \u001b[0merr\u001b[0m\u001b[0;34m\u001b[0m\u001b[0;34m\u001b[0m\u001b[0m\n\u001b[0m\u001b[1;32m   3813\u001b[0m         \u001b[0;32mexcept\u001b[0m \u001b[0mTypeError\u001b[0m\u001b[0;34m:\u001b[0m\u001b[0;34m\u001b[0m\u001b[0;34m\u001b[0m\u001b[0m\n\u001b[1;32m   3814\u001b[0m             \u001b[0;31m# If we have a listlike key, _check_indexing_error will raise\u001b[0m\u001b[0;34m\u001b[0m\u001b[0;34m\u001b[0m\u001b[0m\n",
            "\u001b[0;31mKeyError\u001b[0m: 0"
          ]
        }
      ]
    },
    {
      "cell_type": "code",
      "source": [],
      "metadata": {
        "id": "fc_ZvL7iIEfk"
      },
      "execution_count": null,
      "outputs": []
    },
    {
      "cell_type": "markdown",
      "source": [
        "##5. Interesting Patterns in Campaign Performance\n",
        "Let's analyze how different segments performed:"
      ],
      "metadata": {
        "id": "RBCQ01pMJqv5"
      }
    },
    {
      "cell_type": "code",
      "source": [
        "# Analyze performance by different segments\n",
        "def analyze_segment(column):\n",
        "    grouped = email_table.groupby(column).agg(\n",
        "        total=('email_id', 'count'),\n",
        "        opened=('opened', 'sum'),\n",
        "        clicked=('clicked', 'sum')\n",
        "    )\n",
        "    grouped['open_rate'] = grouped['opened'] / grouped['total'] * 100\n",
        "    grouped['click_rate'] = grouped['clicked'] / grouped['total'] * 100\n",
        "    grouped['click_to_open'] = grouped['clicked'] / grouped['opened'] * 100\n",
        "    return grouped\n",
        "\n",
        "# Analyze by email version\n",
        "print(\"Performance by email version:\")\n",
        "print(analyze_segment('email_version'))\n",
        "\n",
        "# Analyze by email text length\n",
        "print(\"\\nPerformance by email text length:\")\n",
        "print(analyze_segment('email_text'))\n",
        "\n",
        "# Analyze by country\n",
        "print(\"\\nPerformance by country:\")\n",
        "print(analyze_segment('user_country'))\n",
        "\n",
        "# Analyze by weekday\n",
        "print(\"\\nPerformance by weekday:\")\n",
        "print(analyze_segment('weekday'))\n",
        "\n",
        "# Analyze by past purchases\n",
        "email_table['purchase_bin'] = pd.cut(email_table['user_past_purchases'],\n",
        "                                   bins=[-1, 0, 1, 3, 5, 10, 100],\n",
        "                                   labels=['0', '1', '2-3', '4-5', '6-10', '10+'])\n",
        "print(\"\\nPerformance by past purchases:\")\n",
        "print(analyze_segment('purchase_bin'))"
      ],
      "metadata": {
        "colab": {
          "base_uri": "https://localhost:8080/"
        },
        "id": "O1uSIfqcIEdJ",
        "outputId": "4283c975-cb01-4cc0-aa5d-0a475b1479bb"
      },
      "execution_count": 6,
      "outputs": [
        {
          "output_type": "stream",
          "name": "stdout",
          "text": [
            "Performance by email version:\n",
            "               total  opened  clicked  open_rate  click_rate  click_to_open\n",
            "email_version                                                              \n",
            "generic        50209    3984      760   7.934832    1.513673      19.076305\n",
            "personalized   49791    6361     1359  12.775401    2.729409      21.364565\n",
            "\n",
            "Performance by email text length:\n",
            "             total  opened  clicked  open_rate  click_rate  click_to_open\n",
            "email_text                                                               \n",
            "long_email   50276    4584      932   9.117670    1.853767      20.331588\n",
            "short_email  49724    5761     1187  11.585954    2.387177      20.604062\n",
            "\n",
            "Performance by country:\n",
            "              total  opened  clicked  open_rate  click_rate  click_to_open\n",
            "user_country                                                              \n",
            "ES             9967     390       83   3.912913    0.832748      21.282051\n",
            "FR             9995     406       80   4.062031    0.800400      19.704433\n",
            "UK            19939    2396      492  12.016651    2.467526      20.534224\n",
            "US            60099    7153     1464  11.902028    2.435981      20.466937\n",
            "\n",
            "Performance by weekday:\n",
            "           total  opened  clicked  open_rate  click_rate  click_to_open\n",
            "weekday                                                                \n",
            "Friday     14177    1051      199   7.413416    1.403682      18.934348\n",
            "Monday     14363    1667      329  11.606210    2.290608      19.736053\n",
            "Saturday   14569    1277      260   8.765186    1.784611      20.360219\n",
            "Sunday     14387    1261      241   8.764857    1.675123      19.111816\n",
            "Thursday   14277    1691      349  11.844225    2.444491      20.638675\n",
            "Tuesday    14143    1704      352  12.048363    2.488864      20.657277\n",
            "Wednesday  14084    1694      389  12.027833    2.761999      22.963400\n",
            "\n",
            "Performance by past purchases:\n",
            "              total  opened  clicked  open_rate  click_rate  click_to_open\n",
            "purchase_bin                                                              \n",
            "0             13877     532        7   3.833682    0.050443       1.315789\n",
            "1             13751    1276      154   9.279325    1.119919      12.068966\n",
            "2-3           25113    2625      400  10.452754    1.592801      15.238095\n",
            "4-5           19785    2247      431  11.357089    2.178418      19.181130\n",
            "6-10          23621    3058      861  12.946107    3.645062      28.155657\n",
            "10+            3853     607      266  15.753958    6.903711      43.822076\n"
          ]
        },
        {
          "output_type": "stream",
          "name": "stderr",
          "text": [
            "<ipython-input-6-64f20d7c2fe8>:3: FutureWarning: The default of observed=False is deprecated and will be changed to True in a future version of pandas. Pass observed=False to retain current behavior or observed=True to adopt the future default and silence this warning.\n",
            "  grouped = email_table.groupby(column).agg(\n"
          ]
        }
      ]
    },
    {
      "cell_type": "markdown",
      "source": [
        "# Conclusion\n"
      ],
      "metadata": {
        "id": "MGIMN-PaKEXM"
      }
    },
    {
      "cell_type": "markdown",
      "source": [
        "6. Final Recommendations\n",
        "Based on the analysis:\n",
        "\n",
        "Model Implementation: Deploy the Random Forest model to score users on their likelihood to click. Only send emails to users above a certain probability threshold.\n",
        "\n",
        "Expected Improvement: By targeting only the top 50% most likely to click, we can expect a XX% improvement in CTR (exact number will depend on your data).\n",
        "\n",
        "Key Findings from Segmentation:\n",
        "\n",
        "Personalized emails likely perform better than generic ones\n",
        "\n",
        "Short text emails likely have higher CTR than long ones\n",
        "\n",
        "Certain countries likely respond better to the campaign\n",
        "\n",
        "Users with 1-3 past purchases likely have the highest engagement\n",
        "\n",
        "Emails sent on certain weekdays/times likely perform better\n",
        "\n",
        "Testing Approach:\n",
        "\n",
        "Run an A/B test where:\n",
        "\n",
        "Group A: 50% of users selected randomly (control)\n",
        "\n",
        "Group B: 50% of users selected by model prediction (test)\n",
        "\n",
        "Compare CTR between groups to validate model effectiveness\n",
        "\n",
        "Gradually increase the percentage of users selected by model as confidence grows\n",
        "\n",
        "Additional Recommendations:\n",
        "\n",
        "Implement a reinforcement learning system to continuously improve the model\n",
        "\n",
        "Consider a multi-armed bandit approach for testing different email variants\n",
        "\n",
        "Add more features if available (user demographics, browsing behavior, etc.)"
      ],
      "metadata": {
        "id": "ihyg2RFwKHEC"
      }
    },
    {
      "cell_type": "code",
      "source": [],
      "metadata": {
        "id": "IOIOP8OYKGoE"
      },
      "execution_count": null,
      "outputs": []
    },
    {
      "cell_type": "code",
      "source": [],
      "metadata": {
        "id": "ULRpswBKIEan"
      },
      "execution_count": null,
      "outputs": []
    },
    {
      "cell_type": "code",
      "source": [],
      "metadata": {
        "id": "tAT9x8obKBGX"
      },
      "execution_count": null,
      "outputs": []
    },
    {
      "cell_type": "code",
      "source": [],
      "metadata": {
        "id": "QNGl9DKWKBCp"
      },
      "execution_count": null,
      "outputs": []
    }
  ]
}